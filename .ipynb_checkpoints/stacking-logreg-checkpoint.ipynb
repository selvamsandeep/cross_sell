{
 "cells": [
  {
   "cell_type": "code",
   "execution_count": 36,
   "metadata": {},
   "outputs": [
    {
     "name": "stdout",
     "output_type": "stream",
     "text": [
      "sample_submission_ROqqAAN.csv\n",
      "test_plBmD8c.csv\n",
      "train.csv\n",
      "train_iI26erW\n",
      "train_iI26erW.zip\n",
      "\n"
     ]
    }
   ],
   "source": [
    "import numpy as np\n",
    "import pandas as pd\n",
    "import gc; gc.enable()\n",
    "%matplotlib inline\n",
    "import matplotlib.pyplot as plt\n",
    "#import missingno as msno\n",
    "#import pandas_profiling as pd_prof\n",
    "from sklearn.preprocessing import LabelEncoder\n",
    "from sklearn.ensemble import RandomForestClassifier, AdaBoostClassifier \n",
    "from sklearn.ensemble import GradientBoostingClassifier, ExtraTreesClassifier\n",
    "#from sklearn.cross_validation import KFold\n",
    "from sklearn.model_selection import StratifiedKFold\n",
    "import xgboost as xgb\n",
    "import lightgbm as lgb\n",
    "from rgf.sklearn import RGFClassifier \n",
    "from catboost import CatBoostClassifier\n",
    "from subprocess import check_output\n",
    "print(check_output(['ls', 'input']).decode('utf8'))"
   ]
  },
  {
   "cell_type": "code",
   "execution_count": 18,
   "metadata": {},
   "outputs": [
    {
     "name": "stdout",
     "output_type": "stream",
     "text": [
      "train dim : (300000, 333) test dim : (200000, 332)\n"
     ]
    }
   ],
   "source": [
    "train = pd.read_csv('input/train.csv', low_memory=False)\n",
    "test = pd.read_csv('input/test_plBmD8c.csv', low_memory=False)\n",
    "print('train dim : {} test dim : {}'.format(train.shape, test.shape))"
   ]
  },
  {
   "cell_type": "code",
   "execution_count": 19,
   "metadata": {
    "collapsed": true
   },
   "outputs": [],
   "source": [
    "train['RESPONDERS'] = train['RESPONDERS'].map({'N':0, 'Y':1}).astype(np.int8)\n",
    "#train.RESPONDERS.value_counts()"
   ]
  },
  {
   "cell_type": "code",
   "execution_count": 20,
   "metadata": {
    "collapsed": true
   },
   "outputs": [],
   "source": [
    "y_train = train['RESPONDERS'].values\n",
    "customer_id = test['CUSTOMER_ID']\n",
    "train.drop(['CUSTOMER_ID','RESPONDERS'], inplace=True, axis=1)\n",
    "test.drop(['CUSTOMER_ID'], inplace=True, axis=1)"
   ]
  },
  {
   "cell_type": "code",
   "execution_count": 21,
   "metadata": {
    "collapsed": true
   },
   "outputs": [],
   "source": [
    "missing_df = train.isnull().sum(axis=0).reset_index()\n",
    "missing_df.columns = ['column_name', 'missing_count']\n",
    "column_to_use = missing_df[missing_df['missing_count'] < 200000]['column_name'].values.tolist()"
   ]
  },
  {
   "cell_type": "code",
   "execution_count": 22,
   "metadata": {
    "collapsed": true
   },
   "outputs": [],
   "source": [
    "train = train[column_to_use]\n",
    "test = test[column_to_use]"
   ]
  },
  {
   "cell_type": "code",
   "execution_count": 23,
   "metadata": {},
   "outputs": [],
   "source": [
    "#train.head(3)"
   ]
  },
  {
   "cell_type": "code",
   "execution_count": 24,
   "metadata": {
    "collapsed": true
   },
   "outputs": [],
   "source": [
    "full_data = [train, test]"
   ]
  },
  {
   "cell_type": "code",
   "execution_count": 25,
   "metadata": {
    "collapsed": true
   },
   "outputs": [],
   "source": [
    "le = LabelEncoder()\n",
    "for data in full_data: \n",
    "    cols = data.select_dtypes(include=['object']).columns\n",
    "    for col in cols:       \n",
    "        data[col] = data[col].fillna('other')\n",
    "        data[col] = le.fit_transform(data[col]).astype(np.int16)           "
   ]
  },
  {
   "cell_type": "code",
   "execution_count": 26,
   "metadata": {
    "collapsed": true
   },
   "outputs": [],
   "source": [
    "for data in full_data:\n",
    "    cols = data.select_dtypes(include=['int64']).columns\n",
    "    for col in cols:       \n",
    "        data[col] = data[col].fillna('-1').astype(np.int16)"
   ]
  },
  {
   "cell_type": "code",
   "execution_count": 27,
   "metadata": {
    "collapsed": true
   },
   "outputs": [],
   "source": [
    "for data in full_data:\n",
    "    cols = data.select_dtypes(include=['float64']).columns\n",
    "    for col in cols:       \n",
    "        data[col] = data[col].fillna('-1.0').astype(np.float32)"
   ]
  },
  {
   "cell_type": "raw",
   "metadata": {},
   "source": [
    "pd_prof.ProfileReport(train)"
   ]
  },
  {
   "cell_type": "code",
   "execution_count": 28,
   "metadata": {
    "collapsed": true
   },
   "outputs": [],
   "source": [
    "for data in full_data:\n",
    "    data.drop(['INMON_01KET_MON_01','OCCUP_ALL_NEW'], inplace=True, axis=1)"
   ]
  },
  {
   "cell_type": "code",
   "execution_count": 29,
   "metadata": {},
   "outputs": [
    {
     "name": "stdout",
     "output_type": "stream",
     "text": [
      "train dim : (300000, 41) test dim : (200000, 41)\n"
     ]
    }
   ],
   "source": [
    "print('train dim : {} test dim : {}'.format(train.shape, test.shape))"
   ]
  },
  {
   "cell_type": "code",
   "execution_count": 14,
   "metadata": {
    "collapsed": true
   },
   "outputs": [],
   "source": [
    "X_train = train.values\n",
    "X_test = test.values\n"
   ]
  },
  {
   "cell_type": "code",
   "execution_count": 37,
   "metadata": {},
   "outputs": [],
   "source": [
    "ntrain = train.shape[0]\n",
    "ntest= test.shape[0]\n",
    "NFOLDS = 3\n",
    "SEED = 4\n",
    "#kf = KFold(ntrain, n_folds=NFOLDS, shuffle=True, random_state=SEED)\n",
    "skf = list(StratifiedKFold(n_splits=NFOLDS, shuffle=True, random_state=2016).split(X_train, y_train))"
   ]
  },
  {
   "cell_type": "code",
   "execution_count": 38,
   "metadata": {
    "collapsed": true
   },
   "outputs": [],
   "source": [
    "del full_data, train, test"
   ]
  },
  {
   "cell_type": "code",
   "execution_count": 44,
   "metadata": {
    "collapsed": true
   },
   "outputs": [],
   "source": [
    "class BaseModels(object):\n",
    "    \n",
    "    def __init__(self, clf, seed=0, params=None):\n",
    "        #params['random_state'] = seed\n",
    "        self.clf = clf(**params)\n",
    "        \n",
    "    def train(self,X_train, y_train):\n",
    "        self.clf.fit(X_train, y_train)\n",
    "    \n",
    "    def predict(self, X):\n",
    "        return self.clf.predict_proba(X)[:,1]       \n",
    "        \n",
    "    \n",
    "class XgbModel(object):\n",
    "    \n",
    "    def __init__(self, seed=0, params=None):\n",
    "        self.params = params\n",
    "        self.params['seed'] = seed\n",
    "        self.nrounds = params.pop('nrouns', 250)\n",
    "        \n",
    "    def train(self, X_train, y_train):\n",
    "        dtrain = xgb.DMatrix(X_train, y_train)\n",
    "        self.mdl = xgb.train(self.params, dtrain, self.nrounds) \n",
    "        \n",
    "    def predict(self, X):\n",
    "        return self.mdl.predict(xgb.DMatrix(X))\n",
    "    "
   ]
  },
  {
   "cell_type": "code",
   "execution_count": 45,
   "metadata": {},
   "outputs": [],
   "source": [
    "def get_oof(clf):#, X_train, y_train, X_test):\n",
    "    oof_train = np.zeros((ntrain,))\n",
    "    oof_test = np.zeros((ntest,))\n",
    "    oof_test_kf = np.zeros((NFOLDS,ntest))\n",
    "    j=1\n",
    "    for i, (train_idx, valid_idx) in enumerate(skf):\n",
    "        trn_X = X_train[train_idx]\n",
    "        trn_y = y_train[train_idx]\n",
    "        val_X = X_train[valid_idx]\n",
    "        \n",
    "        print (\"Fit Model%d fold %d\" % (j,i+1))\n",
    "        clf.train(trn_X, trn_y)\n",
    "        \n",
    "        oof_train[valid_idx] = clf.predict(val_X)\n",
    "        oof_test_kf[i,:] = clf.predict(X_test)\n",
    "        \n",
    "    oof_test[:] = oof_test_kf.mean(axis=0) \n",
    "    j+=1\n",
    "    return oof_train.reshape(-1,1), oof_test.reshape(-1,1)\n",
    "    "
   ]
  },
  {
   "cell_type": "code",
   "execution_count": 46,
   "metadata": {
    "collapsed": true
   },
   "outputs": [],
   "source": [
    "# Random Forest parameters\n",
    "rf_params = {\n",
    "    'n_jobs': -1,\n",
    "    'n_estimators': 500,\n",
    "     'warm_start': True, \n",
    "     #'max_features': 0.2,\n",
    "    'max_depth': 6,\n",
    "    'min_samples_leaf': 2,\n",
    "    'max_features' : 'sqrt',\n",
    "    'verbose': 0\n",
    "}\n",
    "# Extra Trees Parameters\n",
    "et_params = {\n",
    "    'n_jobs': -1,\n",
    "    'n_estimators':500,\n",
    "    #'max_features': 0.5,\n",
    "    'max_depth': 8,\n",
    "    'min_samples_leaf': 2,\n",
    "    'verbose': 0\n",
    "}\n",
    "\n",
    "# AdaBoost parameters\n",
    "ada_params = {\n",
    "    'n_estimators': 500,\n",
    "    'learning_rate' : 0.75\n",
    "}\n",
    "\n",
    "# Gradient Boosting parameters\n",
    "gb_params = {\n",
    "    'n_estimators': 500,\n",
    "     #'max_features': 0.2,\n",
    "    'max_depth': 5,\n",
    "    'min_samples_leaf': 2,\n",
    "    'verbose': 0\n",
    "}\n",
    "xgb_params = {\n",
    "    'seed': 0,\n",
    "    'colsample_bytree': 0.7,\n",
    "    'silent': 1,\n",
    "    'subsample': 0.7,\n",
    "    'learning_rate': 0.075,\n",
    "    'objective': 'binary:logistic',\n",
    "    'max_depth': 6,\n",
    "    'num_parallel_tree': 1,\n",
    "    'min_child_weight': 1,\n",
    "    'eval_metric': 'error',\n",
    "    'nrounds': 350\n",
    "}\n",
    "\n",
    "# LightGBM params\n",
    "lgb_params = {}\n",
    "lgb_params['learning_rate'] = 0.01\n",
    "lgb_params['n_estimators'] = 1250\n",
    "#lgb_params['max_depth'] = 10\n",
    "lgb_params['max_bin'] = 10\n",
    "lgb_params['subsample'] = 0.8\n",
    "lgb_params['subsample_freq'] = 10\n",
    "lgb_params['colsample_bytree'] = 0.8   \n",
    "lgb_params['min_child_samples'] = 500\n",
    "\n",
    "# CatBoost params\n",
    "cat_params = {}\n",
    "cat_params['iterations'] = 900\n",
    "cat_params['depth'] = 8\n",
    "cat_params['rsm'] = 0.95\n",
    "cat_params['learning_rate'] = 0.03\n",
    "cat_params['l2_leaf_reg'] = 3.5  \n",
    "cat_params['border_count'] = 8\n",
    "cat_params['gradient_iterations'] = 4\n",
    "\n",
    "# Regularized Greedy Forest params\n",
    "rgf_params = {}\n",
    "rgf_params['max_leaf'] = 2000\n",
    "rgf_params['learning_rate'] = 0.5\n",
    "rgf_params['algorithm'] = \"RGF_Sib\"\n",
    "rgf_params['test_interval'] = 100\n",
    "rgf_params['min_samples_leaf'] = 3 \n",
    "rgf_params['reg_depth'] = 1.0\n",
    "rgf_params['l2'] = 0.5  \n",
    "rgf_params['sl2'] = 0.005\n",
    "\n"
   ]
  },
  {
   "cell_type": "code",
   "execution_count": 47,
   "metadata": {},
   "outputs": [],
   "source": [
    "#rf = BaseModels(clf=RandomForestClassifier, seed=SEED, params=rf_params)\n",
    "rgf = BaseModels(clf=RGFClassifier, seed=SEED, params=rgf_params)\n",
    "#et = BaseModels(clf=ExtraTreesClassifier, seed=SEED, params=et_params)\n",
    "#ada = BaseModels(clf=AdaBoostClassifier, seed=SEED, params=ada_params)\n",
    "lg = BaseModels(clf=lgb.LGBMClassifier, seed=SEED, params=lgb_params)\n",
    "cb  = BaseModels(clf=CatBoostClassifier, seed=SEED, params=cat_params)\n",
    "gb = BaseModels(clf=GradientBoostingClassifier, seed=SEED, params=gb_params)\n",
    "xg = XgbModel(seed=SEED, params=xgb_params)"
   ]
  },
  {
   "cell_type": "code",
   "execution_count": 48,
   "metadata": {},
   "outputs": [
    {
     "name": "stdout",
     "output_type": "stream",
     "text": [
      "Fit <__main__.BaseModels object at 0x7f59bd5a3940> fold 1\n",
      "Fit <__main__.BaseModels object at 0x7f59bd5a3940> fold 2\n",
      "Fit <__main__.BaseModels object at 0x7f59bd5a3940> fold 3\n",
      "Fit <__main__.BaseModels object at 0x7f59bd5a39b0> fold 1\n",
      "Fit <__main__.BaseModels object at 0x7f59bd5a39b0> fold 2\n",
      "Fit <__main__.BaseModels object at 0x7f59bd5a39b0> fold 3\n",
      "Fit <__main__.BaseModels object at 0x7f59bd5a3748> fold 1\n",
      "Fit <__main__.BaseModels object at 0x7f59bd5a3748> fold 2\n",
      "Fit <__main__.BaseModels object at 0x7f59bd5a3748> fold 3\n",
      "Fit <__main__.BaseModels object at 0x7f59bd5a33c8> fold 1\n",
      "Fit <__main__.BaseModels object at 0x7f59bd5a33c8> fold 2\n",
      "Fit <__main__.BaseModels object at 0x7f59bd5a33c8> fold 3\n",
      "Fit <__main__.XgbModel object at 0x7f59bd5a3668> fold 1\n",
      "Fit <__main__.XgbModel object at 0x7f59bd5a3668> fold 2\n",
      "Fit <__main__.XgbModel object at 0x7f59bd5a3668> fold 3\n",
      "complete\n"
     ]
    }
   ],
   "source": [
    "#et_oof_train, et_oof_test = get_oof(et, X_train, y_train, test) # Extra Trees\n",
    "#rf_oof_train, rf_oof_test = get_oof(rf) #,X_train, y_train, X_test ) # Random Forest\n",
    "rgf_oof_train, rgf_oof_test = get_oof(rgf)\n",
    "#ada_oof_train, ada_oof_test = get_oof(ada)#, X_train, y_train, X_test) # AdaBoost \n",
    "lg_oof_train, lg_oof_test = get_oof(lg)\n",
    "gb_oof_train, gb_oof_test = get_oof(gb)\n",
    "cb_oof_train, cb_oof_test = get_oof(cb)#, X_train, y_train, X_test) # Gradient Boost\n",
    "xgb_oof_train, xgb_oof_test = get_oof(xg)#, X_train, y_train, X_test) # xgboost\n",
    "print(\"complete\")"
   ]
  },
  {
   "cell_type": "raw",
   "metadata": {},
   "source": [
    "from sklearn.metrics import accuracy_score\n",
    "#print(\"XG-CV: {}\".format(accuracy_score(y_train, xgb_oof_train)))\n",
    "print(\"ET-CV: {}\".format(accuracy_score(y_train, et_oof_train)))\n",
    "print(\"RF-CV: {}\".format(accuracy_score(y_train, rf_oof_train)))\n",
    "print(\"AD-CV: {}\".format(accuracy_score(y_train, ada_oof_train)))\n",
    "print(\"GB-CV: {}\".format(accuracy_score(y_train, gb_oof_train)))"
   ]
  },
  {
   "cell_type": "code",
   "execution_count": 49,
   "metadata": {
    "collapsed": true
   },
   "outputs": [],
   "source": [
    "stk_train = np.concatenate((rgf_oof_train, lg_oof_train, gb_oof_train, cb_oof_train, xgb_oof_train), axis=1)\n",
    "stk_test = np.concatenate((rgf_oof_test, lg_oof_test, gb_oof_test, cb_oof_test, xgb_oof_test), axis=1)"
   ]
  },
  {
   "cell_type": "code",
   "execution_count": 50,
   "metadata": {
    "collapsed": true
   },
   "outputs": [],
   "source": [
    "params = {'learning_rate': 0.02, \n",
    "          'num_leaves':78,\n",
    "          'min_data_in_leaf': 200,\n",
    "          'max_depth': 6, \n",
    "          'colsample_bytree': 0.522,\n",
    "          'boosting': 'gbdt', \n",
    "          'objective': 'binary', \n",
    "          'metric': 'auc',           \n",
    "          'seed': 32}"
   ]
  },
  {
   "cell_type": "code",
   "execution_count": 51,
   "metadata": {},
   "outputs": [],
   "source": [
    "lgb_train = lgb.Dataset(stk_train, y_train)\n",
    "model_lgb = lgb.train(params, lgb_train, 1500)                       \n",
    "                      #verbose_eval=50,                       \n",
    "                      #early_stopping_rounds=200)"
   ]
  },
  {
   "cell_type": "code",
   "execution_count": 52,
   "metadata": {
    "collapsed": true
   },
   "outputs": [],
   "source": [
    "pred = model_lgb.predict(stk_test)#, num_iteration=model_lgb.best_iteration)"
   ]
  },
  {
   "cell_type": "code",
   "execution_count": 53,
   "metadata": {
    "collapsed": true
   },
   "outputs": [],
   "source": [
    "sub = pd.DataFrame({'CUSTOMER_ID': customer_id, 'RESPONDERS':pred })"
   ]
  },
  {
   "cell_type": "code",
   "execution_count": 54,
   "metadata": {},
   "outputs": [
    {
     "data": {
      "text/html": [
       "<div>\n",
       "<style>\n",
       "    .dataframe thead tr:only-child th {\n",
       "        text-align: right;\n",
       "    }\n",
       "\n",
       "    .dataframe thead th {\n",
       "        text-align: left;\n",
       "    }\n",
       "\n",
       "    .dataframe tbody tr th {\n",
       "        vertical-align: top;\n",
       "    }\n",
       "</style>\n",
       "<table border=\"1\" class=\"dataframe\">\n",
       "  <thead>\n",
       "    <tr style=\"text-align: right;\">\n",
       "      <th></th>\n",
       "      <th>CUSTOMER_ID</th>\n",
       "      <th>RESPONDERS</th>\n",
       "    </tr>\n",
       "  </thead>\n",
       "  <tbody>\n",
       "    <tr>\n",
       "      <th>0</th>\n",
       "      <td>15800</td>\n",
       "      <td>0.019657</td>\n",
       "    </tr>\n",
       "    <tr>\n",
       "      <th>1</th>\n",
       "      <td>463196</td>\n",
       "      <td>0.017881</td>\n",
       "    </tr>\n",
       "    <tr>\n",
       "      <th>2</th>\n",
       "      <td>309959</td>\n",
       "      <td>0.000046</td>\n",
       "    </tr>\n",
       "    <tr>\n",
       "      <th>3</th>\n",
       "      <td>102348</td>\n",
       "      <td>0.000080</td>\n",
       "    </tr>\n",
       "    <tr>\n",
       "      <th>4</th>\n",
       "      <td>114850</td>\n",
       "      <td>0.030759</td>\n",
       "    </tr>\n",
       "  </tbody>\n",
       "</table>\n",
       "</div>"
      ],
      "text/plain": [
       "   CUSTOMER_ID  RESPONDERS\n",
       "0        15800    0.019657\n",
       "1       463196    0.017881\n",
       "2       309959    0.000046\n",
       "3       102348    0.000080\n",
       "4       114850    0.030759"
      ]
     },
     "execution_count": 54,
     "metadata": {},
     "output_type": "execute_result"
    }
   ],
   "source": [
    "\n",
    "sub.head(5)"
   ]
  },
  {
   "cell_type": "code",
   "execution_count": 55,
   "metadata": {
    "collapsed": true
   },
   "outputs": [],
   "source": [
    "sub.to_csv('stacking_2.csv', index=False)"
   ]
  },
  {
   "cell_type": "code",
   "execution_count": null,
   "metadata": {
    "collapsed": true
   },
   "outputs": [],
   "source": []
  }
 ],
 "metadata": {
  "kernelspec": {
   "display_name": "Python 3",
   "language": "python",
   "name": "python3"
  },
  "language_info": {
   "codemirror_mode": {
    "name": "ipython",
    "version": 3
   },
   "file_extension": ".py",
   "mimetype": "text/x-python",
   "name": "python",
   "nbconvert_exporter": "python",
   "pygments_lexer": "ipython3",
   "version": "3.5.2"
  }
 },
 "nbformat": 4,
 "nbformat_minor": 2
}
